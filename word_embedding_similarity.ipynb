{
 "cells": [
  {
   "cell_type": "markdown",
   "metadata": {},
   "source": [
    "# A simple examination of gender in word embeddings "
   ]
  },
  {
   "cell_type": "code",
   "execution_count": 1,
   "metadata": {},
   "outputs": [],
   "source": [
    "import gensim\n",
    "import spacy"
   ]
  },
  {
   "cell_type": "code",
   "execution_count": 3,
   "metadata": {},
   "outputs": [],
   "source": [
    "mdl = spacy.load('en')"
   ]
  },
  {
   "cell_type": "markdown",
   "metadata": {},
   "source": [
    "## Some experiments in similarity"
   ]
  },
  {
   "cell_type": "code",
   "execution_count": 44,
   "metadata": {},
   "outputs": [],
   "source": [
    "occupations = mdl(u'nurse doctor chef cook driver farmer soldier')"
   ]
  },
  {
   "cell_type": "code",
   "execution_count": 32,
   "metadata": {},
   "outputs": [],
   "source": [
    "english_gender = mdl(u'man woman')"
   ]
  },
  {
   "cell_type": "code",
   "execution_count": 45,
   "metadata": {},
   "outputs": [
    {
     "name": "stdout",
     "output_type": "stream",
     "text": [
      "nurse\n",
      "similarity to man: 0.288194541541, similarity to woman: 0.498597225116\n",
      "doctor\n",
      "similarity to man: 0.42005049254, similarity to woman: 0.502229552504\n",
      "chef\n",
      "similarity to man: 0.265366655726, similarity to woman: 0.212274310124\n",
      "cook\n",
      "similarity to man: 0.271892773951, similarity to woman: 0.287966926169\n",
      "driver\n",
      "similarity to man: 0.355625703514, similarity to woman: 0.336093061455\n",
      "farmer\n",
      "similarity to man: 0.402730177903, similarity to woman: 0.378617059623\n",
      "soldier\n",
      "similarity to man: 0.546681888541, similarity to woman: 0.475124226903\n"
     ]
    }
   ],
   "source": [
    "for occ in occupations:\n",
    "    print(occ)\n",
    "    print(u'similarity to man: {}, similarity to woman: {}'.format(occ.similarity(english_gender[0]), \n",
    "                                                                   occ.similarity(english_gender[1])))"
   ]
  },
  {
   "cell_type": "code",
   "execution_count": null,
   "metadata": {},
   "outputs": [],
   "source": []
  }
 ],
 "metadata": {
  "kernelspec": {
   "display_name": "Python 2",
   "language": "python",
   "name": "python2"
  },
  "language_info": {
   "codemirror_mode": {
    "name": "ipython",
    "version": 2
   },
   "file_extension": ".py",
   "mimetype": "text/x-python",
   "name": "python",
   "nbconvert_exporter": "python",
   "pygments_lexer": "ipython2",
   "version": "2.7.13"
  }
 },
 "nbformat": 4,
 "nbformat_minor": 2
}
